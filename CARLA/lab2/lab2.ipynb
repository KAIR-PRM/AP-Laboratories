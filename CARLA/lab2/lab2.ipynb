{
 "cells": [
  {
   "cell_type": "markdown",
   "metadata": {},
   "source": [
    "# Automatyka Pojazdowa - laboratorium 2\n",
    "\n",
    "Celem tego laboratorium jest zapoznanie z prostymi algorytmami nawigacji (pure pursuit z regulatorem PID) oraz API pozwalającym na sterowanie i odczyt punktów kluczowych trasy w CARLA."
   ]
  },
  {
   "cell_type": "code",
   "execution_count": null,
   "metadata": {},
   "outputs": [],
   "source": [
    "import glob\n",
    "import os\n",
    "import sys\n",
    "import time\n",
    "import cv2\n",
    "import numpy as np\n",
    "\n",
    "import carla\n",
    "\n",
    "# połącz z symulatorem\n",
    "client = carla.Client('localhost', 2000)\n",
    "client.set_timeout(10.0)\n",
    "world = client.get_world()\n",
    "\n",
    "# reset symulacji\n",
    "def reset_world():\n",
    "    world = client.load_world('Town04_Opt')\n",
    "    time.sleep(2.0)\n",
    "    return client.get_world()"
   ]
  },
  {
   "cell_type": "markdown",
   "metadata": {},
   "source": [
    "# Zadanie 1\n",
    "\n",
    "W środowisku CARLA możliwe jest wygenerowanie kolejnych punktów kluczowych na mapie, dla każdego pasa ruchu, wyśrodkowanych w ramach pasa, w jednakowej odległości od siebie nawzajem. Odległość tą należy przekazać jako argument do metody `Map.generate_waypoints(distance)` ([dokumentacja](https://carla.readthedocs.io/en/latest/python_api/#methods_33)).\n",
    "\n",
    "W tym zadaniu należy wygenerować takie punkty i wykreślić je na mapie."
   ]
  },
  {
   "cell_type": "code",
   "execution_count": 14,
   "metadata": {},
   "outputs": [
    {
     "ename": "RuntimeError",
     "evalue": "time-out of 10000ms while waiting for the simulator, make sure the simulator is ready and connected to localhost:2000",
     "output_type": "error",
     "traceback": [
      "\u001b[1;31m---------------------------------------------------------------------------\u001b[0m",
      "\u001b[1;31mRuntimeError\u001b[0m                              Traceback (most recent call last)",
      "Cell \u001b[1;32mIn[14], line 1\u001b[0m\n\u001b[1;32m----> 1\u001b[0m \u001b[43mreset_world\u001b[49m\u001b[43m(\u001b[49m\u001b[43m)\u001b[49m\n",
      "Cell \u001b[1;32mIn[11], line 17\u001b[0m, in \u001b[0;36mreset_world\u001b[1;34m()\u001b[0m\n\u001b[0;32m     16\u001b[0m \u001b[38;5;28;01mdef\u001b[39;00m \u001b[38;5;21mreset_world\u001b[39m():\n\u001b[1;32m---> 17\u001b[0m     world \u001b[38;5;241m=\u001b[39m \u001b[43mclient\u001b[49m\u001b[38;5;241;43m.\u001b[39;49m\u001b[43mload_world\u001b[49m\u001b[43m(\u001b[49m\u001b[38;5;124;43m'\u001b[39;49m\u001b[38;5;124;43mTown10HD_Opt\u001b[39;49m\u001b[38;5;124;43m'\u001b[39;49m\u001b[43m)\u001b[49m\n\u001b[0;32m     18\u001b[0m     time\u001b[38;5;241m.\u001b[39msleep(\u001b[38;5;241m2.0\u001b[39m)\n\u001b[0;32m     19\u001b[0m     \u001b[38;5;28;01mreturn\u001b[39;00m client\u001b[38;5;241m.\u001b[39mget_world()\n",
      "\u001b[1;31mRuntimeError\u001b[0m: time-out of 10000ms while waiting for the simulator, make sure the simulator is ready and connected to localhost:2000"
     ]
    }
   ],
   "source": [
    "reset_world()"
   ]
  },
  {
   "cell_type": "code",
   "execution_count": null,
   "metadata": {},
   "outputs": [
    {
     "name": "stdout",
     "output_type": "stream",
     "text": [
      "Liczba waypointów: 680\n",
      "Location(x=109.929878, y=-9.334196, z=0.000000)\n",
      "Location(x=106.429962, y=-9.358066, z=0.000000)\n",
      "Location(x=102.930038, y=-9.381934, z=0.000000)\n",
      "Location(x=99.430122, y=-9.405804, z=0.000000)\n",
      "Location(x=109.945251, y=-19.339298, z=0.000000)\n",
      "Location(x=106.445312, y=-19.359720, z=0.000000)\n",
      "Location(x=102.945374, y=-19.380144, z=0.000000)\n",
      "Location(x=99.445435, y=-19.400566, z=0.000000)\n",
      "Location(x=19.330637, y=140.959915, z=0.000000)\n",
      "Location(x=19.350212, y=137.459961, z=0.000000)\n"
     ]
    }
   ],
   "source": [
    "# spawnowanie auta\n",
    "blueprint_library = world.get_blueprint_library()\n",
    "vehicle_bp = blueprint_library.filter('vehicle.*')[0]\n",
    "\n",
    "map = world.get_map()\n",
    "\n",
    "# wybierz zawsze pierwszy dostępny punkt spawnu, aby auto zaczynało w tym samym miejscu na mapie\n",
    "# https://carla.readthedocs.io/en/latest/python_api/#carla.Map.get_spawn_points\n",
    "spawn_point = map.get_spawn_points()[0]\n",
    "vehicle = world.spawn_actor(vehicle_bp, spawn_point)\n",
    "\n",
    "waypoints = map.generate_waypoints(distance=10.0)  # TODO: Zmień odległość między waypointami (np. na 5.0 lub 20.0)\n",
    "print(\"Liczba waypointów:\", len(waypoints))\n",
    "for wp in waypoints[:10]:\n",
    "    print(wp.transform.location)\n",
    "\n",
    "# wyrysowanie punktów na mapie\n",
    "def draw_waypoints(waypoints):\n",
    "    for wp in waypoints:\n",
    "        # TODO: https://carla.readthedocs.io/en/0.9.11/python_api/#carla.DebugHelper.draw_point\n",
    "        ...  # ustaw kolor czerwony\n",
    "\n",
    "draw_waypoints(waypoints)"
   ]
  },
  {
   "cell_type": "markdown",
   "metadata": {},
   "source": [
    "## Zadanie 2\n",
    "\n",
    "Zrealizuj algorytm pure pursuit z regulatorem PID w module `pure-pursuit`.\n",
    "\n",
    "Uruchom skrypt korzystając z `python -m pure-pursuit`."
   ]
  }
 ],
 "metadata": {
  "kernelspec": {
   "display_name": "Python 3",
   "language": "python",
   "name": "python3"
  },
  "language_info": {
   "codemirror_mode": {
    "name": "ipython",
    "version": 3
   },
   "file_extension": ".py",
   "mimetype": "text/x-python",
   "name": "python",
   "nbconvert_exporter": "python",
   "pygments_lexer": "ipython3",
   "version": "3.12.10"
  }
 },
 "nbformat": 4,
 "nbformat_minor": 2
}
