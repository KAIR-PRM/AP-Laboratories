{
 "cells": [
  {
   "cell_type": "markdown",
   "metadata": {},
   "source": [
    "# Laboratorium Automatyka Pojazdowa: system wizyjny rozpoznający znaki drogowe\n",
    "\n",
    "## Część 3: Detekcja\n",
    "\n",
    "Problem do rozwiązania w ramach tego laboratorium jest zadaniem detekcji: najpierw lokalizacji, a następnie - dla każdego zlokalizowanego obiektu - jego klasyfikacji.\n",
    "\n",
    "W tym laboratorium kluczowe będzie stworzenie pipelineu modeli opracowanych na dwóch poprzednich laboratoriach, aby otrzymać algorytm rozwiązujący problem detekcji znaków drogowych. Stworzone wcześniej modele zostaną zaczytane z katalogu `models`.\n",
    "\n",
    "Miejsca w kodzie pozostawione do uzupełnienia zostały w tym notatniku oznaczone `# TODO`."
   ]
  },
  {
   "cell_type": "code",
   "execution_count": null,
   "metadata": {},
   "outputs": [],
   "source": [
    "import cv2\n",
    "import numpy as np\n",
    "import matplotlib.pyplot as plt\n",
    "import tensorflow as tf\n",
    "from typing import *\n",
    "import pickle"
   ]
  },
  {
   "cell_type": "markdown",
   "metadata": {},
   "source": [
    "## Zaczytanie datasetu"
   ]
  },
  {
   "cell_type": "code",
   "execution_count": null,
   "metadata": {},
   "outputs": [],
   "source": [
    "dataset = tf.data.Dataset.load(\"../data/localization-test-dataset\")"
   ]
  },
  {
   "cell_type": "markdown",
   "metadata": {},
   "source": [
    "## Załadowanie modelu klasyfikatora"
   ]
  },
  {
   "cell_type": "code",
   "execution_count": null,
   "metadata": {},
   "outputs": [],
   "source": [
    "classifierModel = tf.keras.models.load_model(\"../models/classifier.keras\")"
   ]
  },
  {
   "cell_type": "code",
   "execution_count": null,
   "metadata": {},
   "outputs": [],
   "source": [
    "\n",
    "# potrzebujemy także mapy klas na ich etykiety (nazwy)\n",
    "with open(\"../models/classifierClassNames.pickle\", \"rb\") as f:\n",
    "    classNames = pickle.load(f)\n",
    "display(classNames)"
   ]
  },
  {
   "cell_type": "markdown",
   "metadata": {},
   "source": [
    "## Załadowanie modelu lokalizatora"
   ]
  },
  {
   "cell_type": "code",
   "execution_count": null,
   "metadata": {},
   "outputs": [],
   "source": [
    "localizerImported = tf.saved_model.load(\"../models/localizer\")\n",
    "localizerFunction = localizerImported.signatures['serving_default']"
   ]
  },
  {
   "cell_type": "code",
   "execution_count": null,
   "metadata": {},
   "outputs": [],
   "source": [
    "def drawBB(image: np.ndarray, text: str, color: Tuple[int, int, int], BB: Tuple[int, int, int, int], scale: float):\n",
    "    x, y, w, h = BB\n",
    "\n",
    "    cv2.rectangle(\n",
    "        image,\n",
    "        # TODO: poniżej należy przekopiować implementację drawBB z poprzedniego zadania:\n",
    "        # - podać jako pt1 współrzędne lewego górnego rogu BB\n",
    "        # - podać jako pt2 współrzędne prawego dolnego rogu BB\n",
    "        # pt1 = ...,\n",
    "        # pt2 = ...,\n",
    "        pt1=(x, y),\n",
    "        pt2=(x + w, y + h),\n",
    "        color=color,\n",
    "        thickness=int(10 * scale)\n",
    "    )\n",
    "    cv2.putText(\n",
    "        image,\n",
    "        text=text,\n",
    "        org=(x, y - int(40 * scale)),\n",
    "        fontFace=cv2.LINE_AA,\n",
    "        fontScale=1.3 * scale,\n",
    "        color=(255, 255, 255),\n",
    "        thickness=int(6 * scale)\n",
    "    )"
   ]
  },
  {
   "cell_type": "code",
   "execution_count": null,
   "metadata": {},
   "outputs": [],
   "source": [
    "plt.figure(figsize=(20, 5))\n",
    "\n",
    "CLASSIFIER_IMG_SIZE = 256 # px\n",
    "\n",
    "for i, (image, _) in enumerate(dataset.take(3)):\n",
    "    plt.subplot(1, 3, i + 1)\n",
    "\n",
    "    image = (image.numpy() * 255).astype(np.uint8)\n",
    "    result = localizerFunction(inputs=np.array([image]))\n",
    "\n",
    "    preview = image.copy()\n",
    "\n",
    "    for di, (box, locClass, locScore) in enumerate(\n",
    "        zip(\n",
    "            result['detection_boxes'][0].numpy(),\n",
    "            result['detection_classes'][0].numpy().astype(int),\n",
    "            result['detection_scores'][0].numpy()\n",
    "        )\n",
    "    ):\n",
    "        # localization only has one class (Sign = 1) and we need to filter only \"sure\" objects\n",
    "        # TODO: ponizej - upewnic sie, ze klasa z wyjscia modelu lokalizatora to 1, a wynik detekcji jest powyzej sensownego progu (uwaga: wartosc jest znormalizowana)\n",
    "        if locScore >= ... and locClass == ...:\n",
    "            ymin, xmin, ymax, xmax = [... for c in box] # TODO: nalezy zaokrąglic wszystkie wspolrzedne z bounding boxa i skonwertować je do typu int - opencv akceptuje liczby calkowite\n",
    "            w = xmax - xmin\n",
    "            h = ymax - ymin\n",
    "\n",
    "            cutOutSign = image[...] # TODO: należy \"wyciąć\" fragment obrazu o współrzędnych x od xmin do xmax oraz y od ymin do ymax\n",
    "            # our classifier has a fixed input size of CLASSIFIER_IMG_SIZE x CLASSIFIER_IMG_SIZE, so we need to resize the cut-out image to match it\n",
    "            cutOutSign = cv2.resize(cutOutSign, (CLASSIFIER_IMG_SIZE, CLASSIFIER_IMG_SIZE), interpolation = cv2.INTER_CUBIC)\n",
    "\n",
    "            classifierPreds = classifierModel.predict(np.array([cutOutSign]))[0]\n",
    "            classPredictionIndex = ... # TODO: należy wybrać indeks elementu (wyniku) o największej wartości; ponieważ występują w kolejności zgodnej z indeksami klas, będzie to również indeks klasy\n",
    "            classPredictionProbability = classifierPreds[classPredictionIndex]\n",
    "            classPredictionLabel = classNames[classPredictionIndex]\n",
    "\n",
    "            drawBB(\n",
    "                preview,\n",
    "                text=f\"{classPredictionLabel}: loc {locScore * 100 :.0f}%, clsf: {classPredictionProbability * 100 :.0f}%\",\n",
    "                color=(0, 255, 0),\n",
    "                BB=[xmin, ymin, w, h],\n",
    "                scale=0.4\n",
    "            )\n",
    "\n",
    "    plt.imshow(preview)\n",
    "\n",
    "plt.show()"
   ]
  },
  {
   "cell_type": "markdown",
   "metadata": {},
   "source": [
    "## Obserwacje i wnioski"
   ]
  },
  {
   "cell_type": "markdown",
   "metadata": {},
   "source": [
    "..."
   ]
  }
 ],
 "metadata": {
  "kernelspec": {
   "display_name": "Python 3",
   "language": "python",
   "name": "python3"
  },
  "language_info": {
   "codemirror_mode": {
    "name": "ipython",
    "version": 3
   },
   "file_extension": ".py",
   "mimetype": "text/x-python",
   "name": "python",
   "nbconvert_exporter": "python",
   "pygments_lexer": "ipython3",
   "version": "3.11.9"
  }
 },
 "nbformat": 4,
 "nbformat_minor": 2
}
